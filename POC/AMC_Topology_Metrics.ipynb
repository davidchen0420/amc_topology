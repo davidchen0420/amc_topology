{
 "cells": [
  {
   "cell_type": "code",
   "execution_count": 62,
   "id": "e513ec3a",
   "metadata": {},
   "outputs": [],
   "source": [
    "import csv\n",
    "from operator import itemgetter\n",
    "import networkx as nx\n",
    "from networkx.algorithms import community\n",
    "import pandas as pd"
   ]
  },
  {
   "cell_type": "markdown",
   "id": "2981ed78",
   "metadata": {},
   "source": [
    "# Read data"
   ]
  },
  {
   "cell_type": "code",
   "execution_count": 47,
   "id": "841fb901",
   "metadata": {},
   "outputs": [],
   "source": [
    "with open('UCF Lake Nona Medical Center - Nodes.csv', 'r') as nodecsv: # Open the file\n",
    "    nodereader = csv.reader(nodecsv) # Read the csv\n",
    "    # Retrieve the data (using Python list comprhension and list slicing to remove the header row, see footnote 3)\n",
    "    nodes = [n for n in nodereader][1:]\n",
    "\n",
    "node_names = [n[0] for n in nodes] # Get a list of only the node names"
   ]
  },
  {
   "cell_type": "code",
   "execution_count": 48,
   "id": "2b529d42",
   "metadata": {},
   "outputs": [],
   "source": [
    "with open('UCF Lake Nona Medical Center - Internal Edges.csv', 'r') as edgecsv: # Open the file\n",
    "    edgereader = csv.reader(edgecsv) # Read the csv\n",
    "    edges = [tuple(e)[1:3] for e in edgereader if e[0] == \"Hyperlink\"][1:] # Retrieve the data"
   ]
  },
  {
   "cell_type": "markdown",
   "id": "e5f30d35",
   "metadata": {},
   "source": [
    "# Build Network"
   ]
  },
  {
   "cell_type": "code",
   "execution_count": 49,
   "id": "6d5f85cd",
   "metadata": {},
   "outputs": [],
   "source": [
    "G = nx.Graph()\n",
    "G.add_nodes_from(node_names)\n",
    "G.add_edges_from(edges)"
   ]
  },
  {
   "cell_type": "code",
   "execution_count": 50,
   "id": "a5dfda08",
   "metadata": {},
   "outputs": [],
   "source": [
    "degree_dict = dict(G.degree(G.nodes()))\n",
    "nx.set_node_attributes(G, degree_dict, 'degree')"
   ]
  },
  {
   "cell_type": "markdown",
   "id": "4b05b961",
   "metadata": {},
   "source": [
    "# Metrics"
   ]
  },
  {
   "cell_type": "code",
   "execution_count": 51,
   "id": "6bd16ace",
   "metadata": {},
   "outputs": [
    {
     "name": "stdout",
     "output_type": "stream",
     "text": [
      "Number of Nodes: 260\n"
     ]
    }
   ],
   "source": [
    "n_nodes = G.number_of_nodes()\n",
    "print(\"Number of Nodes:\", n_nodes)"
   ]
  },
  {
   "cell_type": "code",
   "execution_count": 52,
   "id": "e24049e5",
   "metadata": {},
   "outputs": [
    {
     "name": "stdout",
     "output_type": "stream",
     "text": [
      "Number of Edges: 5765\n"
     ]
    }
   ],
   "source": [
    "n_edges = G.number_of_edges()\n",
    "print(\"Number of Edges:\", n_edges)"
   ]
  },
  {
   "cell_type": "code",
   "execution_count": 53,
   "id": "d0c2b5cf",
   "metadata": {},
   "outputs": [
    {
     "name": "stdout",
     "output_type": "stream",
     "text": [
      "Average Degree: 44.34615384615385\n"
     ]
    }
   ],
   "source": [
    "avg_degree = sum(dict(G.degree()).values()) / G.number_of_nodes()\n",
    "print(\"Average Degree:\", avg_degree)"
   ]
  },
  {
   "cell_type": "code",
   "execution_count": 54,
   "id": "61c43ab3",
   "metadata": {},
   "outputs": [
    {
     "name": "stdout",
     "output_type": "stream",
     "text": [
      "Diameter of Connected Components: 5\n"
     ]
    }
   ],
   "source": [
    "diameter = max([max(j.values()) for (i,j) in nx.shortest_path_length(G)])\n",
    "print(\"Diameter of Connected Components:\", diameter)"
   ]
  },
  {
   "cell_type": "code",
   "execution_count": 55,
   "id": "a28f9908",
   "metadata": {},
   "outputs": [
    {
     "name": "stdout",
     "output_type": "stream",
     "text": [
      "Network density: 0.17122067122067122\n"
     ]
    }
   ],
   "source": [
    "density = nx.density(G)\n",
    "print(\"Network density:\", density)"
   ]
  },
  {
   "cell_type": "code",
   "execution_count": 56,
   "id": "90a16ffe",
   "metadata": {},
   "outputs": [
    {
     "name": "stdout",
     "output_type": "stream",
     "text": [
      "Triadic closure: 0.6208305048136262\n"
     ]
    }
   ],
   "source": [
    "triadic_closure = nx.transitivity(G)\n",
    "print(\"Triadic closure:\", triadic_closure)"
   ]
  },
  {
   "cell_type": "code",
   "execution_count": 57,
   "id": "eee2ff5b",
   "metadata": {},
   "outputs": [],
   "source": [
    "betweenness_dict = nx.betweenness_centrality(G) \n",
    "eigenvector_dict = nx.eigenvector_centrality(G)"
   ]
  },
  {
   "cell_type": "code",
   "execution_count": 58,
   "id": "601c8c9a",
   "metadata": {},
   "outputs": [],
   "source": [
    "nx.set_node_attributes(G, betweenness_dict, 'betweenness')\n",
    "nx.set_node_attributes(G, eigenvector_dict, 'eigenvector')"
   ]
  },
  {
   "cell_type": "code",
   "execution_count": 59,
   "id": "73fd98a9",
   "metadata": {},
   "outputs": [
    {
     "name": "stdout",
     "output_type": "stream",
     "text": [
      "Top 10 nodes by betweenness centrality:\n",
      "('https://ucflakenonamedicalcenter.com/patients/insurance.dot', 0.17796385825339084)\n",
      "('https://ucflakenonamedicalcenter.com/legal/index.dot', 0.10722249130639364)\n",
      "('https://ucflakenonamedicalcenter.com/covid-19/covid-19-vaccine-information/', 0.08159806991855742)\n",
      "('https://ucflakenonamedicalcenter.com/covid-19/latest-updates/staying-connected-from-a-distance.dot', 0.07759143167008295)\n",
      "('https://ucflakenonamedicalcenter.com/', 0.0616651317558549)\n",
      "('https://ucflakenonamedicalcenter.com/professionals/employees/', 0.05533957283840775)\n",
      "('https://ucflakenonamedicalcenter.com/legal/', 0.04226387335322465)\n",
      "('https://ucflakenonamedicalcenter.com/covid-19/covid-19-vaccine-information/covid-19-vaccine-faqs.dot', 0.03950841164091848)\n",
      "('https://ucflakenonamedicalcenter.com/covid-19/', 0.034196298526578135)\n",
      "('https://ucflakenonamedicalcenter.com/patients/florida-pricing-transparency.dot', 0.025229728775075354)\n"
     ]
    }
   ],
   "source": [
    "sorted_betweenness = sorted(betweenness_dict.items(), key=itemgetter(1), reverse=True)\n",
    "\n",
    "print(\"Top 10 nodes by betweenness centrality:\")\n",
    "for b in sorted_betweenness[:10]:\n",
    "    print(b)"
   ]
  },
  {
   "cell_type": "code",
   "execution_count": 60,
   "id": "d32341b0",
   "metadata": {},
   "outputs": [
    {
     "name": "stdout",
     "output_type": "stream",
     "text": [
      "Top 10 nodes by eigenvector centrality:\n",
      "('https://ucflakenonamedicalcenter.com/covid-19/', 0.12093040226236088)\n",
      "('https://ucflakenonamedicalcenter.com/covid-19/latest-updates/enhanced-safety-protections.dot', 0.12081164248896978)\n",
      "('https://ucflakenonamedicalcenter.com/covid-19/covid-19-vaccine-information/', 0.12073856653691616)\n",
      "('https://ucflakenonamedicalcenter.com/covid-19/visitor-policy.dot', 0.12059456247547833)\n",
      "('https://ucflakenonamedicalcenter.com/legal/index.dot', 0.12027709648488526)\n",
      "('https://ucflakenonamedicalcenter.com/patients/insurance.dot', 0.1201648341882133)\n",
      "('https://ucflakenonamedicalcenter.com/professionals/employees/', 0.11992098704756803)\n",
      "('https://ucflakenonamedicalcenter.com/patients/registration.dot', 0.11988218394817408)\n",
      "('https://ucflakenonamedicalcenter.com/about/legal/er-wait-times.dot', 0.11986940256879423)\n",
      "('https://ucflakenonamedicalcenter.com/professionals/physicians/', 0.11986648272907549)\n"
     ]
    }
   ],
   "source": [
    "sorted_eigenvector = sorted(eigenvector_dict.items(), key=itemgetter(1), reverse=True)\n",
    "\n",
    "print(\"Top 10 nodes by eigenvector centrality:\")\n",
    "for b in sorted_eigenvector[:10]:\n",
    "    print(b)"
   ]
  },
  {
   "cell_type": "markdown",
   "id": "45359f46",
   "metadata": {},
   "source": [
    "# Function to calculate network metrics based on manifest"
   ]
  },
  {
   "cell_type": "code",
   "execution_count": 85,
   "id": "3fa04fb7",
   "metadata": {},
   "outputs": [],
   "source": [
    "def network_metrics(manifest):\n",
    "\n",
    "    output_df = manifest.copy()\n",
    "\n",
    "    output_df['n_nodes'] = 0\n",
    "    output_df['n_edges'] = 0\n",
    "    output_df['avg_degree'] = 0\n",
    "    output_df['diameter'] = 0\n",
    "    output_df['density'] = 0\n",
    "    output_df['triadic_closure'] = 0\n",
    "\n",
    "    for x in range(len(manifest)):\n",
    "\n",
    "        with open(manifest.loc[x, \"Node_File\"], 'r') as nodecsv: # Open the file\n",
    "            nodereader = csv.reader(nodecsv) # Read the csv\n",
    "            # Retrieve the data (using Python list comprhension and list slicing to remove the header row, see footnote 3)\n",
    "            nodes = [n for n in nodereader][1:]\n",
    "\n",
    "        node_names = [n[0] for n in nodes] # Get a list of only the node names\n",
    "\n",
    "        with open(manifest.loc[x, \"Edges_File\"], 'r') as edgecsv: # Open the file\n",
    "            edgereader = csv.reader(edgecsv) # Read the csv\n",
    "            edges = [tuple(e)[1:3] for e in edgereader if e[0] == \"Hyperlink\"][1:] # Retrieve the data\n",
    "\n",
    "        G = nx.Graph()\n",
    "        G.add_nodes_from(node_names)\n",
    "        G.add_edges_from(edges)\n",
    "\n",
    "        degree_dict = dict(G.degree(G.nodes()))\n",
    "        nx.set_node_attributes(G, degree_dict, 'degree')\n",
    "        output_df.loc[x, 'n_nodes'] = G.number_of_nodes()\n",
    "        output_df.loc[x, 'n_edges'] =  G.number_of_edges()\n",
    "        output_df.loc[x, 'avg_degree'] = sum(dict(G.degree()).values()) / G.number_of_nodes()\n",
    "        output_df.loc[x, 'diameter'] = max([max(j.values()) for (i,j) in nx.shortest_path_length(G)])\n",
    "        output_df.loc[x, 'density'] = nx.density(G)\n",
    "        output_df.loc[x, 'triadic_closure'] = nx.transitivity(G)\n",
    "\n",
    "        nx.write_gexf(G, manifest.loc[x, \"Node_File\"].split(\"-\")[:1][0] + \".gexf\")\n",
    "        \n",
    "    return output_df"
   ]
  },
  {
   "cell_type": "code",
   "execution_count": 86,
   "id": "8372e7d9",
   "metadata": {},
   "outputs": [],
   "source": [
    "manifest = pd.read_excel('network_manifest.xlsx')\n",
    "network_metrics(manifest).to_excel(\"network_metrics.xlsx\")"
   ]
  },
  {
   "cell_type": "code",
   "execution_count": null,
   "id": "978ee328",
   "metadata": {},
   "outputs": [],
   "source": []
  }
 ],
 "metadata": {
  "kernelspec": {
   "display_name": "Python 3 (ipykernel)",
   "language": "python",
   "name": "python3"
  },
  "language_info": {
   "codemirror_mode": {
    "name": "ipython",
    "version": 3
   },
   "file_extension": ".py",
   "mimetype": "text/x-python",
   "name": "python",
   "nbconvert_exporter": "python",
   "pygments_lexer": "ipython3",
   "version": "3.8.8"
  }
 },
 "nbformat": 4,
 "nbformat_minor": 5
}
