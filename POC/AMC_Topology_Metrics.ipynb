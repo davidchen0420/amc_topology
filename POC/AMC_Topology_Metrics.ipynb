{
 "cells": [
  {
   "cell_type": "code",
   "execution_count": 1,
   "id": "e513ec3a",
   "metadata": {},
   "outputs": [],
   "source": [
    "import csv\n",
    "import pandas as pd\n",
    "from operator import itemgetter\n",
    "import networkx as nx\n",
    "from networkx.algorithms import community\n",
    "from functools import reduce\n",
    "import matplotlib.pyplot as plt\n",
    "import os"
   ]
  },
  {
   "cell_type": "markdown",
   "id": "2981ed78",
   "metadata": {},
   "source": [
    "# Read data"
   ]
  },
  {
   "cell_type": "code",
   "execution_count": 47,
   "id": "841fb901",
   "metadata": {},
   "outputs": [],
   "source": [
    "with open('www.forefdn.org - Nodes.csv', 'r') as nodecsv: # Open the file\n",
    "    nodereader = csv.reader(nodecsv) # Read the csv\n",
    "    # Retrieve the data (using Python list comprhension and list slicing to remove the header row, see footnote 3)\n",
    "    nodes = [n for n in nodereader][1:]\n",
    "\n",
    "node_names = [n[0] for n in nodes] # Get a list of only the node names"
   ]
  },
  {
   "cell_type": "code",
   "execution_count": 48,
   "id": "2b529d42",
   "metadata": {},
   "outputs": [],
   "source": [
    "with open('www.forefdn.org - Edges (Internal).csv', 'r') as edgecsv: # Open the file\n",
    "    edgereader = csv.reader(edgecsv) # Read the csv\n",
    "    edges = [tuple(e) for e in edgereader][1:] # Retrieve the data\n",
    "    edges = [x for x in edges if x[0] != x[1]]"
   ]
  },
  {
   "cell_type": "markdown",
   "id": "e5f30d35",
   "metadata": {},
   "source": [
    "# Build Network"
   ]
  },
  {
   "cell_type": "code",
   "execution_count": 49,
   "id": "6d5f85cd",
   "metadata": {},
   "outputs": [],
   "source": [
    "G = nx.Graph()\n",
    "G.add_nodes_from(node_names)\n",
    "G.add_edges_from(edges)"
   ]
  },
  {
   "cell_type": "code",
   "execution_count": 50,
   "id": "1feaf0ee",
   "metadata": {},
   "outputs": [],
   "source": [
    "G.remove_nodes_from(list(nx.isolates(G)))\n",
    "\n",
    "for component in list(nx.connected_components(G)):\n",
    "    if len(component)<3:\n",
    "        for node in component:\n",
    "            G.remove_node(node)"
   ]
  },
  {
   "cell_type": "code",
   "execution_count": 51,
   "id": "a5dfda08",
   "metadata": {},
   "outputs": [],
   "source": [
    "degree_dict = dict(G.degree(G.nodes()))\n",
    "\n",
    "nx.set_node_attributes(G, degree_dict, 'degree')"
   ]
  },
  {
   "cell_type": "markdown",
   "id": "4b05b961",
   "metadata": {},
   "source": [
    "# Network-wide Metrics"
   ]
  },
  {
   "cell_type": "code",
   "execution_count": 52,
   "id": "de34f5ac",
   "metadata": {},
   "outputs": [
    {
     "name": "stdout",
     "output_type": "stream",
     "text": [
      "Number of Nodes: 526\n"
     ]
    }
   ],
   "source": [
    "n_nodes = G.number_of_nodes()\n",
    "print(\"Number of Nodes:\", n_nodes)"
   ]
  },
  {
   "cell_type": "code",
   "execution_count": 53,
   "id": "2ff7db5d",
   "metadata": {},
   "outputs": [
    {
     "name": "stdout",
     "output_type": "stream",
     "text": [
      "Number of Nodes: 5008\n"
     ]
    }
   ],
   "source": [
    "n_edges = G.number_of_edges()\n",
    "print(\"Number of Nodes:\", n_edges)"
   ]
  },
  {
   "cell_type": "code",
   "execution_count": 54,
   "id": "a28f9908",
   "metadata": {},
   "outputs": [
    {
     "name": "stdout",
     "output_type": "stream",
     "text": [
      "Network Density: 0.036270143038203875\n"
     ]
    }
   ],
   "source": [
    "density = nx.density(G)\n",
    "print(\"Network Density:\", density)"
   ]
  },
  {
   "cell_type": "code",
   "execution_count": 55,
   "id": "1be395d8",
   "metadata": {},
   "outputs": [
    {
     "name": "stdout",
     "output_type": "stream",
     "text": [
      "Diameter: 5\n"
     ]
    }
   ],
   "source": [
    "diameter = nx.diameter(G)\n",
    "print(\"Diameter:\", diameter)"
   ]
  },
  {
   "cell_type": "code",
   "execution_count": 56,
   "id": "522dc24b",
   "metadata": {},
   "outputs": [
    {
     "name": "stdout",
     "output_type": "stream",
     "text": [
      "Transitivity: 0.28375687008112066\n"
     ]
    }
   ],
   "source": [
    "transitivity = nx.transitivity(G)\n",
    "print(\"Transitivity:\", transitivity)"
   ]
  },
  {
   "cell_type": "code",
   "execution_count": 57,
   "id": "9360c3c1",
   "metadata": {},
   "outputs": [
    {
     "name": "stdout",
     "output_type": "stream",
     "text": [
      "Average Clustering: 0.40577903189451214\n"
     ]
    }
   ],
   "source": [
    "avg_clustering = nx.average_clustering(G)\n",
    "print(\"Average Clustering:\", avg_clustering)"
   ]
  },
  {
   "cell_type": "markdown",
   "id": "44649427",
   "metadata": {},
   "source": [
    "# Node-specific metrics"
   ]
  },
  {
   "cell_type": "code",
   "execution_count": 13,
   "id": "e436e11a",
   "metadata": {},
   "outputs": [
    {
     "name": "stdout",
     "output_type": "stream",
     "text": [
      "[('https://forefdn.org/our-grantees/', 45592.56064115523), ('https://forefdn.org/resources/', 7619.721953919097), ('https://forefdn.org/about-us/', 7409.187210295589), ('https://forefdn.org/news-updates/', 4990.214041099446), ('https://forefdn.org/tapping-into-virtual-recovery-supports/', 4867.070919556882), ('https://forefdn.org/grants-and-funding/', 4696.351538410269), ('https://forefdn.org/grantee-spotlight-encouraging-physicians-to-treat-opioid-use-disorder-in-emergency-departments-across-the-u-s/', 4336.756785472027), ('https://forefdn.org/presidents-update-dec-20-fores-year-of-firsts-in-the-midst-of-a-pandemic/', 4118.20602436229), ('https://forefdn.org/grantee-spotlight-improving-access-to-recovery-supports-in-colleges-and-universities/', 3673.264814369695), ('https://forefdn.org/our-grantees/page/4/', 2897.1892057256696)]\n"
     ]
    }
   ],
   "source": [
    "betweenness = nx.betweenness_centrality(G, normalized=False)\n",
    "print(sorted(betweenness.items(), key=lambda x: x[1], reverse=True)[0:10])"
   ]
  },
  {
   "cell_type": "code",
   "execution_count": 14,
   "id": "55ac039c",
   "metadata": {},
   "outputs": [
    {
     "name": "stdout",
     "output_type": "stream",
     "text": [
      "[('https://forefdn.org/our-grantees/', 0.1736129881455603), ('https://forefdn.org/resources/', 0.16330010898328462), ('https://forefdn.org/news-updates/', 0.16320652670136257), ('https://forefdn.org/about-us/', 0.16197041395824832), ('https://forefdn.org/grants-and-funding/', 0.16180245675435415), ('https://forefdn.org/', 0.16157382999812975), ('https://forefdn.org/careers/', 0.16157382999812975), ('https://forefdn.org/financial-reports/', 0.16157382999812975), ('https://forefdn.org/contact-us/', 0.16153972994974358), ('https://forefdn.org/privacy-policy/', 0.16153972994974358)]\n"
     ]
    }
   ],
   "source": [
    "eigenvector = nx.eigenvector_centrality(G)\n",
    "print(sorted(eigenvector.items(), key=lambda x: x[1], reverse=True)[0:10])"
   ]
  },
  {
   "cell_type": "code",
   "execution_count": 15,
   "id": "14cfac6e",
   "metadata": {},
   "outputs": [
    {
     "name": "stdout",
     "output_type": "stream",
     "text": [
      "[('https://forefdn.org/our-grantees/', 0.6713554987212276), ('https://forefdn.org/resources/', 0.5898876404494382), ('https://forefdn.org/about-us/', 0.587248322147651), ('https://forefdn.org/news-updates/', 0.5859375), ('https://forefdn.org/grants-and-funding/', 0.5839822024471635), ('https://forefdn.org/', 0.5807522123893806), ('https://forefdn.org/careers/', 0.5807522123893806), ('https://forefdn.org/financial-reports/', 0.5807522123893806), ('https://forefdn.org/contact-us/', 0.580110497237569), ('https://forefdn.org/privacy-policy/', 0.580110497237569)]\n"
     ]
    }
   ],
   "source": [
    "closeness = nx.closeness_centrality(G)\n",
    "print(sorted(closeness.items(), key=lambda x: x[1], reverse=True)[0:10])"
   ]
  },
  {
   "cell_type": "code",
   "execution_count": 16,
   "id": "cd032536",
   "metadata": {},
   "outputs": [
    {
     "name": "stdout",
     "output_type": "stream",
     "text": [
      "[('https://forefdn.org/resources//?res=covid-19', 5), ('https://forefdn.org/wp-content/uploads/2021/07/peerqualstudy_featured.png', 5), ('https://forefdn.org/wp-content/uploads/2021/06/peerwebinar_featured.jpg', 5), ('https://forefdn.org/resources//?res=mother-child-dyad', 5), ('https://forefdn.org/news-updates//?res=fore-announcements', 5), ('https://forefdn.org/resources//?res=program-advisory-meeting', 5), ('https://forefdn.org/resources//?res=issue-brief', 5), ('https://forefdn.org/news-updates//?res=webinar', 5), ('https://forefdn.org/resources//?res=policy-brief', 5), ('https://forefdn.org/news-updates//?res=presidents-update', 5)]\n"
     ]
    }
   ],
   "source": [
    "eccentricity = nx.eccentricity(G)\n",
    "print(sorted(eccentricity.items(), key=lambda x: x[1], reverse=True)[0:10])"
   ]
  },
  {
   "cell_type": "code",
   "execution_count": 17,
   "id": "71370da4",
   "metadata": {},
   "outputs": [
    {
     "name": "stdout",
     "output_type": "stream",
     "text": [
      "[('https://forefdn.org/our-grantees/', 0.02736244551317377), ('https://forefdn.org/our-grantees/page/4/', 0.018416880596053425), ('https://forefdn.org/our-grantees/page/5/', 0.018416880596053425), ('https://forefdn.org/our-grantees/page/2/', 0.018416880596053425), ('https://forefdn.org/our-grantees/page/3/', 0.018416880596053425), ('https://forefdn.org/about-us/', 0.014166306111748751), ('https://forefdn.org/resources/', 0.013421723888897629), ('https://forefdn.org/grants-and-funding/', 0.012866669821186979), ('https://forefdn.org/news-updates/', 0.012710012968271019), ('https://forefdn.org/', 0.011710817775679278)]\n"
     ]
    }
   ],
   "source": [
    "pr = nx.pagerank(G, alpha=0.85)\n",
    "print(sorted(pr.items(), key=lambda x: x[1], reverse=True)[0:10])"
   ]
  },
  {
   "cell_type": "code",
   "execution_count": 18,
   "id": "601c8c9a",
   "metadata": {},
   "outputs": [],
   "source": [
    "nx.set_node_attributes(G, betweenness, 'betweenness')\n",
    "nx.set_node_attributes(G, eigenvector, 'eigenvector')\n",
    "nx.set_node_attributes(G, closeness, 'closeness')\n",
    "nx.set_node_attributes(G, eccentricity, 'eccentricity')\n",
    "nx.set_node_attributes(G, pr, 'pagerank')"
   ]
  },
  {
   "cell_type": "code",
   "execution_count": 19,
   "id": "8b969418",
   "metadata": {},
   "outputs": [],
   "source": [
    "betweenness_df = pd.DataFrame.from_dict(data = betweenness.items())\n",
    "betweenness_df.columns = ['Node', 'Betweenness']\n",
    "\n",
    "eigenvector_df = pd.DataFrame.from_dict(data = eigenvector.items())\n",
    "eigenvector_df.columns = ['Node', 'Eigenvector']\n",
    "\n",
    "closeness_df = pd.DataFrame.from_dict(data = closeness.items())\n",
    "closeness_df.columns = ['Node', 'Closeness']\n",
    "\n",
    "eccentricity_df = pd.DataFrame.from_dict(data = eccentricity.items())\n",
    "eccentricity_df.columns = ['Node', 'Eccentricity']\n",
    "\n",
    "pr_df = pd.DataFrame.from_dict(data = pr.items())\n",
    "pr_df.columns = ['Node', 'PageRank']"
   ]
  },
  {
   "cell_type": "code",
   "execution_count": 20,
   "id": "cb824982",
   "metadata": {},
   "outputs": [],
   "source": [
    "node_metrics_df = reduce(lambda left,right: pd.merge(left,right,on='Node'), [betweenness_df, eigenvector_df, closeness_df, eccentricity_df, pr_df])"
   ]
  },
  {
   "cell_type": "code",
   "execution_count": 23,
   "id": "c028cb1e",
   "metadata": {},
   "outputs": [],
   "source": [
    "n_nodes = G.number_of_nodes()\n",
    "n_edges = G.number_of_edges()\n",
    "density = nx.density(G)\n",
    "diameter = nx.diameter(G)\n",
    "transitivity = nx.transitivity(G)\n",
    "avg_clustering = nx.average_clustering(G)\n"
   ]
  },
  {
   "cell_type": "markdown",
   "id": "c9cdb699",
   "metadata": {},
   "source": [
    "# Function"
   ]
  },
  {
   "cell_type": "code",
   "execution_count": 13,
   "id": "f23c6a75",
   "metadata": {},
   "outputs": [],
   "source": [
    "def topology(name, node, edge, isolated_n=3):\n",
    "    \n",
    "    #Read Data \n",
    "    \n",
    "    with open(node, 'r') as nodecsv: # Open the file\n",
    "        nodereader = csv.reader(nodecsv) # Read the csv\n",
    "        # Retrieve the data (using Python list comprhension and list slicing to remove the header row, see footnote 3)\n",
    "        nodes = [n for n in nodereader][1:]\n",
    "\n",
    "    node_names = [n[0] for n in nodes] # Get a list of only the node names\n",
    "    \n",
    "    with open(edge, 'r') as edgecsv: # Open the file\n",
    "        edgereader = csv.reader(edgecsv) # Read the csv\n",
    "        edges = [tuple(e[1:3]) for e in edgereader][1:] # Retrieve the data\n",
    "        edges = [x for x in edges if x[0] != x[1]] # Remove circular edges; link to itself\n",
    "        \n",
    "    #Build Network\n",
    "    \n",
    "    G = nx.Graph()\n",
    "    G.add_nodes_from(node_names)\n",
    "    G.add_edges_from(edges)\n",
    "\n",
    "    #Remove isolated components\n",
    "    \n",
    "    G.remove_nodes_from(list(nx.isolates(G)))\n",
    "\n",
    "    for component in list(nx.connected_components(G)):\n",
    "        if len(component)<isolated_n:\n",
    "            for node in component:\n",
    "                G.remove_node(node)\n",
    "                \n",
    "    degree_dict = dict(G.degree(G.nodes()))\n",
    "    nx.set_node_attributes(G, degree_dict, 'degree')\n",
    "    \n",
    "    #Network-wide metrics\n",
    "    n_nodes = G.number_of_nodes()\n",
    "    n_edges = G.number_of_edges()\n",
    "    density = nx.density(G)\n",
    "    diameter = nx.diameter(G)\n",
    "    transitivity = nx.transitivity(G)\n",
    "    avg_clustering = nx.average_clustering(G)\n",
    "    \n",
    "    network_df = pd.DataFrame(columns = ['Name', 'Nodes', 'Edges', 'Density', 'Diameter', 'Transitivity', 'Average Clustering'])       \n",
    "    network_df.loc[len(network_df), :] = [name, n_nodes, n_edges, density, diameter, transitivity, avg_clustering]\n",
    "    \n",
    "    if os.path.isfile(\"summary_network_metrics.tsv\") is True:\n",
    "        network_df.to_csv(\"summary_network_metrics.tsv\", sep=\"\\t\", header=False, index=False, mode=\"a\")\n",
    "    else:\n",
    "        network_df.to_csv(\"summary_network_metrics.tsv\", sep=\"\\t\", index=False, mode=\"w\")\n",
    "        \n",
    "    #Node-specific metrics\n",
    "    betweenness = nx.betweenness_centrality(G, normalized=False)\n",
    "    eigenvector = nx.eigenvector_centrality(G)\n",
    "    closeness = nx.closeness_centrality(G)\n",
    "    eccentricity = nx.eccentricity(G)\n",
    "    pr = nx.pagerank(G, alpha=0.85)\n",
    "    \n",
    "    nx.set_node_attributes(G, betweenness, 'betweenness')\n",
    "    nx.set_node_attributes(G, eigenvector, 'eigenvector')\n",
    "    nx.set_node_attributes(G, closeness, 'closeness')\n",
    "    nx.set_node_attributes(G, eccentricity, 'eccentricity')\n",
    "    nx.set_node_attributes(G, pr, 'pagerank')\n",
    "    \n",
    "    betweenness_df = pd.DataFrame.from_dict(data = betweenness.items())\n",
    "    betweenness_df.columns = ['Node', 'Betweenness']\n",
    "\n",
    "    eigenvector_df = pd.DataFrame.from_dict(data = eigenvector.items())\n",
    "    eigenvector_df.columns = ['Node', 'Eigenvector']\n",
    "\n",
    "    closeness_df = pd.DataFrame.from_dict(data = closeness.items())\n",
    "    closeness_df.columns = ['Node', 'Closeness']\n",
    "\n",
    "    eccentricity_df = pd.DataFrame.from_dict(data = eccentricity.items())\n",
    "    eccentricity_df.columns = ['Node', 'Eccentricity']\n",
    "\n",
    "    pr_df = pd.DataFrame.from_dict(data = pr.items())\n",
    "    pr_df.columns = ['Node', 'PageRank']\n",
    "    \n",
    "    node_metrics_df = reduce(lambda left,right: pd.merge(left,right,on='Node'), [betweenness_df, eigenvector_df, closeness_df, eccentricity_df, pr_df])\n",
    "    \n",
    "    node_metrics_df.to_csv(name + \"_node_metrics.tsv\", sep=\"\\t\", index=False)\n",
    "    \n",
    "    #Network Visualization\n",
    "    \n",
    "    plt.figure(1, figsize=(20,20)) \n",
    "    nx.draw(G, \n",
    "            pos = nx.spring_layout(G,scale=5, iterations=100),\n",
    "            node_size = [x*10 for x in list(dict(G.degree).values())],\n",
    "            edgecolors = \"black\")\n",
    "    plt.savefig(name + '_network.png', dpi=300)\n",
    "    plt.close()"
   ]
  },
  {
   "cell_type": "code",
   "execution_count": 76,
   "id": "887def18",
   "metadata": {},
   "outputs": [],
   "source": [
    "topology(name = \"forefdn\", \n",
    "         node = 'www.forefdn.org - Nodes.csv', \n",
    "         edge = 'www.forefdn.org - Edges (Internal).csv', \n",
    "         isolated_n=3)"
   ]
  },
  {
   "cell_type": "code",
   "execution_count": 14,
   "id": "7aff0ceb",
   "metadata": {},
   "outputs": [],
   "source": [
    "topology(name = \"Ruby_Memorial_Hospital\", \n",
    "         node = 'Ruby Memorial Hospital - Nodes.csv', \n",
    "         edge = 'Ruby Memorial Hospital - Internal Edges.csv', \n",
    "         isolated_n=3)"
   ]
  },
  {
   "cell_type": "code",
   "execution_count": 15,
   "id": "903ae0f6",
   "metadata": {},
   "outputs": [],
   "source": [
    "topology(name = \"UCF_Lake_Nona_Medical_Center\", \n",
    "         node = 'UCF Lake Nona Medical Center - Nodes.csv', \n",
    "         edge = 'UCF Lake Nona Medical Center - Internal Edges.csv', \n",
    "         isolated_n=3)"
   ]
  },
  {
   "cell_type": "code",
   "execution_count": 16,
   "id": "d5875ef5",
   "metadata": {},
   "outputs": [],
   "source": [
    "topology(name = \"VUMC\", \n",
    "         node = 'VUMC - Nodes.csv', \n",
    "         edge = 'VUMC - Internal Edges.csv', \n",
    "         isolated_n=3)"
   ]
  },
  {
   "cell_type": "code",
   "execution_count": 17,
   "id": "fd48249e",
   "metadata": {},
   "outputs": [],
   "source": [
    "topology(name = \"Western_Health\", \n",
    "         node = 'Western Health - Nodes.csv', \n",
    "         edge = 'Western Health - Internal Edges.csv', \n",
    "         isolated_n=3)"
   ]
  },
  {
   "cell_type": "code",
   "execution_count": 18,
   "id": "c93c949e",
   "metadata": {},
   "outputs": [],
   "source": [
    "topology(name = \"Yale_New_Haven_Hospital\", \n",
    "         node = 'Yale New Haven Hospital - Nodes.csv', \n",
    "         edge = 'Yale New Haven Hospital - Internal Edges.csv', \n",
    "         isolated_n=3)"
   ]
  },
  {
   "cell_type": "code",
   "execution_count": 21,
   "id": "ff935938",
   "metadata": {},
   "outputs": [],
   "source": [
    "test = pd.read_csv(\"/Users/davidchen/Downloads/Twist_Exome_Target_hg38.bed\", sep=\"\\t\", header=None)"
   ]
  },
  {
   "cell_type": "code",
   "execution_count": 23,
   "id": "6817f052",
   "metadata": {},
   "outputs": [],
   "source": [
    "test.columns = [\"Chromosome\", \"Start\", \"End\"]"
   ]
  },
  {
   "cell_type": "code",
   "execution_count": 28,
   "id": "1a40c3aa",
   "metadata": {},
   "outputs": [],
   "source": [
    "test['Chromosome'] = [x.split(\"chr\")[1] for x in test['Chromosome']]"
   ]
  },
  {
   "cell_type": "code",
   "execution_count": 30,
   "id": "edf87c50",
   "metadata": {},
   "outputs": [],
   "source": [
    "test.to_csv(\"/Users/davidchen/Documents/GitHub/J-statistic/package/example/input/example_exome.csv\", index=False)"
   ]
  },
  {
   "cell_type": "markdown",
   "id": "5c2f70c5",
   "metadata": {},
   "source": [
    "# Network Visualization"
   ]
  },
  {
   "cell_type": "markdown",
   "id": "3567adc1",
   "metadata": {},
   "source": [
    "# Metrics Visualization"
   ]
  },
  {
   "cell_type": "code",
   "execution_count": 39,
   "id": "7f2466ee",
   "metadata": {},
   "outputs": [
    {
     "data": {
      "text/html": [
       "<div>\n",
       "<style scoped>\n",
       "    .dataframe tbody tr th:only-of-type {\n",
       "        vertical-align: middle;\n",
       "    }\n",
       "\n",
       "    .dataframe tbody tr th {\n",
       "        vertical-align: top;\n",
       "    }\n",
       "\n",
       "    .dataframe thead th {\n",
       "        text-align: right;\n",
       "    }\n",
       "</style>\n",
       "<table border=\"1\" class=\"dataframe\">\n",
       "  <thead>\n",
       "    <tr style=\"text-align: right;\">\n",
       "      <th></th>\n",
       "      <th>Node</th>\n",
       "      <th>Betweenness</th>\n",
       "      <th>Eigenvector</th>\n",
       "      <th>Closeness</th>\n",
       "      <th>Eccentricity</th>\n",
       "      <th>PageRank</th>\n",
       "    </tr>\n",
       "  </thead>\n",
       "  <tbody>\n",
       "    <tr>\n",
       "      <th>0</th>\n",
       "      <td>http://forefdn.org/</td>\n",
       "      <td>0.000000</td>\n",
       "      <td>0.002347</td>\n",
       "      <td>0.367647</td>\n",
       "      <td>4</td>\n",
       "      <td>0.000352</td>\n",
       "    </tr>\n",
       "    <tr>\n",
       "      <th>1</th>\n",
       "      <td>https://forefdn.org/</td>\n",
       "      <td>2431.228850</td>\n",
       "      <td>0.161574</td>\n",
       "      <td>0.580752</td>\n",
       "      <td>3</td>\n",
       "      <td>0.011711</td>\n",
       "    </tr>\n",
       "    <tr>\n",
       "      <th>2</th>\n",
       "      <td>https://forefdn.org/wp-content/plugins/wp-page...</td>\n",
       "      <td>1906.554776</td>\n",
       "      <td>0.134239</td>\n",
       "      <td>0.571895</td>\n",
       "      <td>3</td>\n",
       "      <td>0.010487</td>\n",
       "    </tr>\n",
       "    <tr>\n",
       "      <th>3</th>\n",
       "      <td>https://forefdn.org/wp-content/plugins/google-...</td>\n",
       "      <td>1906.554776</td>\n",
       "      <td>0.134239</td>\n",
       "      <td>0.571895</td>\n",
       "      <td>3</td>\n",
       "      <td>0.010487</td>\n",
       "    </tr>\n",
       "    <tr>\n",
       "      <th>4</th>\n",
       "      <td>https://forefdn.org/wp-content/themes/fore/dis...</td>\n",
       "      <td>1906.554776</td>\n",
       "      <td>0.134239</td>\n",
       "      <td>0.571895</td>\n",
       "      <td>3</td>\n",
       "      <td>0.010487</td>\n",
       "    </tr>\n",
       "    <tr>\n",
       "      <th>...</th>\n",
       "      <td>...</td>\n",
       "      <td>...</td>\n",
       "      <td>...</td>\n",
       "      <td>...</td>\n",
       "      <td>...</td>\n",
       "      <td>...</td>\n",
       "    </tr>\n",
       "    <tr>\n",
       "      <th>521</th>\n",
       "      <td>https://www.ama-assn.org/delivering-care/opioi...</td>\n",
       "      <td>0.000000</td>\n",
       "      <td>0.000874</td>\n",
       "      <td>0.303118</td>\n",
       "      <td>5</td>\n",
       "      <td>0.000362</td>\n",
       "    </tr>\n",
       "    <tr>\n",
       "      <th>522</th>\n",
       "      <td>https://americanhealth.jhu.edu/RuralOpioidsCount</td>\n",
       "      <td>0.000000</td>\n",
       "      <td>0.000860</td>\n",
       "      <td>0.305055</td>\n",
       "      <td>5</td>\n",
       "      <td>0.000369</td>\n",
       "    </tr>\n",
       "    <tr>\n",
       "      <th>523</th>\n",
       "      <td>https://oasas.ny.gov/covid19</td>\n",
       "      <td>0.000000</td>\n",
       "      <td>0.000880</td>\n",
       "      <td>0.306301</td>\n",
       "      <td>5</td>\n",
       "      <td>0.000399</td>\n",
       "    </tr>\n",
       "    <tr>\n",
       "      <th>524</th>\n",
       "      <td>https://www.youtube.com/watch?v=9toWqMoC_CE&amp;fe...</td>\n",
       "      <td>0.000000</td>\n",
       "      <td>0.000874</td>\n",
       "      <td>0.303293</td>\n",
       "      <td>5</td>\n",
       "      <td>0.000368</td>\n",
       "    </tr>\n",
       "    <tr>\n",
       "      <th>525</th>\n",
       "      <td>https://mhealthintelligence.com/news/fcc-relea...</td>\n",
       "      <td>0.000000</td>\n",
       "      <td>0.000880</td>\n",
       "      <td>0.306301</td>\n",
       "      <td>5</td>\n",
       "      <td>0.000399</td>\n",
       "    </tr>\n",
       "  </tbody>\n",
       "</table>\n",
       "<p>526 rows × 6 columns</p>\n",
       "</div>"
      ],
      "text/plain": [
       "                                                  Node  Betweenness  \\\n",
       "0                                  http://forefdn.org/     0.000000   \n",
       "1                                 https://forefdn.org/  2431.228850   \n",
       "2    https://forefdn.org/wp-content/plugins/wp-page...  1906.554776   \n",
       "3    https://forefdn.org/wp-content/plugins/google-...  1906.554776   \n",
       "4    https://forefdn.org/wp-content/themes/fore/dis...  1906.554776   \n",
       "..                                                 ...          ...   \n",
       "521  https://www.ama-assn.org/delivering-care/opioi...     0.000000   \n",
       "522   https://americanhealth.jhu.edu/RuralOpioidsCount     0.000000   \n",
       "523                       https://oasas.ny.gov/covid19     0.000000   \n",
       "524  https://www.youtube.com/watch?v=9toWqMoC_CE&fe...     0.000000   \n",
       "525  https://mhealthintelligence.com/news/fcc-relea...     0.000000   \n",
       "\n",
       "     Eigenvector  Closeness  Eccentricity  PageRank  \n",
       "0       0.002347   0.367647             4  0.000352  \n",
       "1       0.161574   0.580752             3  0.011711  \n",
       "2       0.134239   0.571895             3  0.010487  \n",
       "3       0.134239   0.571895             3  0.010487  \n",
       "4       0.134239   0.571895             3  0.010487  \n",
       "..           ...        ...           ...       ...  \n",
       "521     0.000874   0.303118             5  0.000362  \n",
       "522     0.000860   0.305055             5  0.000369  \n",
       "523     0.000880   0.306301             5  0.000399  \n",
       "524     0.000874   0.303293             5  0.000368  \n",
       "525     0.000880   0.306301             5  0.000399  \n",
       "\n",
       "[526 rows x 6 columns]"
      ]
     },
     "execution_count": 39,
     "metadata": {},
     "output_type": "execute_result"
    }
   ],
   "source": [
    "node_metrics_df"
   ]
  },
  {
   "cell_type": "code",
   "execution_count": 59,
   "id": "c5e7c100",
   "metadata": {},
   "outputs": [
    {
     "data": {
      "text/plain": [
       "5"
      ]
     },
     "execution_count": 59,
     "metadata": {},
     "output_type": "execute_result"
    }
   ],
   "source": [
    "range(1, max(node_metrics_df['Eccentricity'])"
   ]
  },
  {
   "cell_type": "code",
   "execution_count": 64,
   "id": "718363c6",
   "metadata": {
    "scrolled": false
   },
   "outputs": [
    {
     "ename": "ValueError",
     "evalue": "weights should have the same shape as x",
     "output_type": "error",
     "traceback": [
      "\u001b[0;31m---------------------------------------------------------------------------\u001b[0m",
      "\u001b[0;31mValueError\u001b[0m                                Traceback (most recent call last)",
      "\u001b[0;32m/var/folders/pf/xlkzjprs0y9dl__s0925l7tc0000gn/T/ipykernel_28316/3042039523.py\u001b[0m in \u001b[0;36m<module>\u001b[0;34m\u001b[0m\n\u001b[1;32m      9\u001b[0m \u001b[0max\u001b[0m\u001b[0;34m[\u001b[0m\u001b[0;36m2\u001b[0m\u001b[0;34m]\u001b[0m\u001b[0;34m.\u001b[0m\u001b[0mset_title\u001b[0m\u001b[0;34m(\u001b[0m\u001b[0;34m\"Closeness Centrality\"\u001b[0m\u001b[0;34m)\u001b[0m\u001b[0;34m\u001b[0m\u001b[0;34m\u001b[0m\u001b[0m\n\u001b[1;32m     10\u001b[0m \u001b[0;34m\u001b[0m\u001b[0m\n\u001b[0;32m---> 11\u001b[0;31m \u001b[0max\u001b[0m\u001b[0;34m[\u001b[0m\u001b[0;36m3\u001b[0m\u001b[0;34m]\u001b[0m\u001b[0;34m.\u001b[0m\u001b[0mhist\u001b[0m\u001b[0;34m(\u001b[0m\u001b[0;34m[\u001b[0m\u001b[0;36m0\u001b[0m\u001b[0;34m,\u001b[0m\u001b[0;36m1\u001b[0m\u001b[0;34m,\u001b[0m\u001b[0;36m2\u001b[0m\u001b[0;34m,\u001b[0m\u001b[0;36m3\u001b[0m\u001b[0;34m,\u001b[0m\u001b[0;36m4\u001b[0m\u001b[0;34m]\u001b[0m\u001b[0;34m,\u001b[0m \u001b[0mbins\u001b[0m\u001b[0;34m=\u001b[0m\u001b[0;34m[\u001b[0m\u001b[0;36m0\u001b[0m\u001b[0;34m,\u001b[0m\u001b[0;36m1\u001b[0m\u001b[0;34m,\u001b[0m\u001b[0;36m2\u001b[0m\u001b[0;34m,\u001b[0m\u001b[0;36m3\u001b[0m\u001b[0;34m,\u001b[0m\u001b[0;36m4\u001b[0m\u001b[0;34m]\u001b[0m\u001b[0;34m,\u001b[0m \u001b[0mweights\u001b[0m\u001b[0;34m=\u001b[0m\u001b[0mnode_metrics_df\u001b[0m\u001b[0;34m[\u001b[0m\u001b[0;34m'Eccentricity'\u001b[0m\u001b[0;34m]\u001b[0m\u001b[0;34m,\u001b[0m \u001b[0medgecolor\u001b[0m\u001b[0;34m=\u001b[0m\u001b[0;34m\"black\"\u001b[0m\u001b[0;34m)\u001b[0m\u001b[0;34m\u001b[0m\u001b[0;34m\u001b[0m\u001b[0m\n\u001b[0m\u001b[1;32m     12\u001b[0m \u001b[0max\u001b[0m\u001b[0;34m[\u001b[0m\u001b[0;36m3\u001b[0m\u001b[0;34m]\u001b[0m\u001b[0;34m.\u001b[0m\u001b[0mset_title\u001b[0m\u001b[0;34m(\u001b[0m\u001b[0;34m\"Eccentricity\"\u001b[0m\u001b[0;34m)\u001b[0m\u001b[0;34m\u001b[0m\u001b[0;34m\u001b[0m\u001b[0m\n\u001b[1;32m     13\u001b[0m \u001b[0max\u001b[0m\u001b[0;34m[\u001b[0m\u001b[0;36m3\u001b[0m\u001b[0;34m]\u001b[0m\u001b[0;34m.\u001b[0m\u001b[0mset_xlim\u001b[0m\u001b[0;34m(\u001b[0m\u001b[0;36m0\u001b[0m\u001b[0;34m,\u001b[0m\u001b[0;34m)\u001b[0m\u001b[0;34m\u001b[0m\u001b[0;34m\u001b[0m\u001b[0m\n",
      "\u001b[0;32m~/anaconda3/lib/python3.8/site-packages/matplotlib/__init__.py\u001b[0m in \u001b[0;36minner\u001b[0;34m(ax, data, *args, **kwargs)\u001b[0m\n\u001b[1;32m   1359\u001b[0m     \u001b[0;32mdef\u001b[0m \u001b[0minner\u001b[0m\u001b[0;34m(\u001b[0m\u001b[0max\u001b[0m\u001b[0;34m,\u001b[0m \u001b[0;34m*\u001b[0m\u001b[0margs\u001b[0m\u001b[0;34m,\u001b[0m \u001b[0mdata\u001b[0m\u001b[0;34m=\u001b[0m\u001b[0;32mNone\u001b[0m\u001b[0;34m,\u001b[0m \u001b[0;34m**\u001b[0m\u001b[0mkwargs\u001b[0m\u001b[0;34m)\u001b[0m\u001b[0;34m:\u001b[0m\u001b[0;34m\u001b[0m\u001b[0;34m\u001b[0m\u001b[0m\n\u001b[1;32m   1360\u001b[0m         \u001b[0;32mif\u001b[0m \u001b[0mdata\u001b[0m \u001b[0;32mis\u001b[0m \u001b[0;32mNone\u001b[0m\u001b[0;34m:\u001b[0m\u001b[0;34m\u001b[0m\u001b[0;34m\u001b[0m\u001b[0m\n\u001b[0;32m-> 1361\u001b[0;31m             \u001b[0;32mreturn\u001b[0m \u001b[0mfunc\u001b[0m\u001b[0;34m(\u001b[0m\u001b[0max\u001b[0m\u001b[0;34m,\u001b[0m \u001b[0;34m*\u001b[0m\u001b[0mmap\u001b[0m\u001b[0;34m(\u001b[0m\u001b[0msanitize_sequence\u001b[0m\u001b[0;34m,\u001b[0m \u001b[0margs\u001b[0m\u001b[0;34m)\u001b[0m\u001b[0;34m,\u001b[0m \u001b[0;34m**\u001b[0m\u001b[0mkwargs\u001b[0m\u001b[0;34m)\u001b[0m\u001b[0;34m\u001b[0m\u001b[0;34m\u001b[0m\u001b[0m\n\u001b[0m\u001b[1;32m   1362\u001b[0m \u001b[0;34m\u001b[0m\u001b[0m\n\u001b[1;32m   1363\u001b[0m         \u001b[0mbound\u001b[0m \u001b[0;34m=\u001b[0m \u001b[0mnew_sig\u001b[0m\u001b[0;34m.\u001b[0m\u001b[0mbind\u001b[0m\u001b[0;34m(\u001b[0m\u001b[0max\u001b[0m\u001b[0;34m,\u001b[0m \u001b[0;34m*\u001b[0m\u001b[0margs\u001b[0m\u001b[0;34m,\u001b[0m \u001b[0;34m**\u001b[0m\u001b[0mkwargs\u001b[0m\u001b[0;34m)\u001b[0m\u001b[0;34m\u001b[0m\u001b[0;34m\u001b[0m\u001b[0m\n",
      "\u001b[0;32m~/anaconda3/lib/python3.8/site-packages/matplotlib/axes/_axes.py\u001b[0m in \u001b[0;36mhist\u001b[0;34m(self, x, bins, range, density, weights, cumulative, bottom, histtype, align, orientation, rwidth, log, color, label, stacked, **kwargs)\u001b[0m\n\u001b[1;32m   6704\u001b[0m             \u001b[0mlen_xi\u001b[0m \u001b[0;34m=\u001b[0m \u001b[0mlen\u001b[0m\u001b[0;34m(\u001b[0m\u001b[0mxi\u001b[0m\u001b[0;34m)\u001b[0m\u001b[0;34m\u001b[0m\u001b[0;34m\u001b[0m\u001b[0m\n\u001b[1;32m   6705\u001b[0m             \u001b[0;32mif\u001b[0m \u001b[0mwi\u001b[0m \u001b[0;32mis\u001b[0m \u001b[0;32mnot\u001b[0m \u001b[0;32mNone\u001b[0m \u001b[0;32mand\u001b[0m \u001b[0mlen\u001b[0m\u001b[0;34m(\u001b[0m\u001b[0mwi\u001b[0m\u001b[0;34m)\u001b[0m \u001b[0;34m!=\u001b[0m \u001b[0mlen_xi\u001b[0m\u001b[0;34m:\u001b[0m\u001b[0;34m\u001b[0m\u001b[0;34m\u001b[0m\u001b[0m\n\u001b[0;32m-> 6706\u001b[0;31m                 \u001b[0;32mraise\u001b[0m \u001b[0mValueError\u001b[0m\u001b[0;34m(\u001b[0m\u001b[0;34m'weights should have the same shape as x'\u001b[0m\u001b[0;34m)\u001b[0m\u001b[0;34m\u001b[0m\u001b[0;34m\u001b[0m\u001b[0m\n\u001b[0m\u001b[1;32m   6707\u001b[0m             \u001b[0;32mif\u001b[0m \u001b[0mlen_xi\u001b[0m\u001b[0;34m:\u001b[0m\u001b[0;34m\u001b[0m\u001b[0;34m\u001b[0m\u001b[0m\n\u001b[1;32m   6708\u001b[0m                 \u001b[0minput_empty\u001b[0m \u001b[0;34m=\u001b[0m \u001b[0;32mFalse\u001b[0m\u001b[0;34m\u001b[0m\u001b[0;34m\u001b[0m\u001b[0m\n",
      "\u001b[0;31mValueError\u001b[0m: weights should have the same shape as x"
     ]
    },
    {
     "data": {
      "image/png": "[encoded data removed]",
      "text/plain": [
       "<Figure size 360x1800 with 5 Axes>"
      ]
     },
     "metadata": {
      "needs_background": "light"
     },
     "output_type": "display_data"
    }
   ],
   "source": [
    "fig, ax = plt.subplots(5, 1, figsize=(5,25))\n",
    "ax[0].hist(node_metrics_df['Betweenness'], bins=10, edgecolor=\"black\")\n",
    "ax[0].set_title(\"Betweenness Centrality\")\n",
    "\n",
    "ax[1].hist(node_metrics_df['Eigenvector'], bins=10, edgecolor=\"black\")\n",
    "ax[1].set_title(\"Eigenvector Centrality\")\n",
    "\n",
    "ax[2].hist(node_metrics_df['Closeness'], bins=10, edgecolor=\"black\")\n",
    "ax[2].set_title(\"Closeness Centrality\")\n",
    "\n",
    "ax[3].hist([0,1,2,3,4], bins=[0,1,2,3,4], weights=node_metrics_df['Eccentricity'], edgecolor=\"black\")\n",
    "ax[3].set_title(\"Eccentricity\")\n",
    "ax[3].set_xlim(0,)\n",
    "\n",
    "ax[4].hist(node_metrics_df['PageRank'], bins=10, edgecolor=\"black\")\n",
    "ax[4].set_title(\"PageRank\")\n",
    "\n",
    "plt.xlim(0,)\n",
    "plt.show()"
   ]
  },
  {
   "cell_type": "code",
   "execution_count": null,
   "id": "c9d7e288",
   "metadata": {},
   "outputs": [],
   "source": []
  }
 ],
 "metadata": {
  "kernelspec": {
   "display_name": "Python 3 (ipykernel)",
   "language": "python",
   "name": "python3"
  },
  "language_info": {
   "codemirror_mode": {
    "name": "ipython",
    "version": 3
   },
   "file_extension": ".py",
   "mimetype": "text/x-python",
   "name": "python",
   "nbconvert_exporter": "python",
   "pygments_lexer": "ipython3",
   "version": "3.8.8"
  }
 },
 "nbformat": 4,
 "nbformat_minor": 5
}
